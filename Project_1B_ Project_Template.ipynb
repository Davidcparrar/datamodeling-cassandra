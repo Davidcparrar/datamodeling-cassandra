{
 "cells": [
  {
   "cell_type": "markdown",
   "metadata": {},
   "source": [
    "# Part I. ETL Pipeline for Pre-Processing the Files"
   ]
  },
  {
   "cell_type": "markdown",
   "metadata": {},
   "source": [
    "## PLEASE RUN THE FOLLOWING CODE FOR PRE-PROCESSING THE FILES"
   ]
  },
  {
   "cell_type": "markdown",
   "metadata": {},
   "source": [
    "#### Import Python packages "
   ]
  },
  {
   "cell_type": "code",
   "execution_count": 1,
   "metadata": {},
   "outputs": [],
   "source": [
    "# Import Python packages \n",
    "import pandas as pd\n",
    "import cassandra\n",
    "import re\n",
    "import os\n",
    "import glob\n",
    "import numpy as np\n",
    "import json\n",
    "import csv"
   ]
  },
  {
   "cell_type": "markdown",
   "metadata": {},
   "source": [
    "#### Creating list of filepaths to process original event csv data files"
   ]
  },
  {
   "cell_type": "code",
   "execution_count": 2,
   "metadata": {},
   "outputs": [
    {
     "name": "stdout",
     "output_type": "stream",
     "text": [
      "/home/workspace\n"
     ]
    }
   ],
   "source": [
    "# Checking your current working directory\n",
    "print(os.getcwd())\n",
    "\n",
    "# Get your current folder and subfolder event data\n",
    "filepath = os.getcwd() + '/event_data'\n",
    "\n",
    "# Create a for loop to create a list of files and collect each filepath\n",
    "for root, dirs, files in os.walk(filepath):\n",
    "    \n",
    "# join the file path and roots with the subdirectories using glob\n",
    "    file_path_list = glob.glob(os.path.join(root,'*'))"
   ]
  },
  {
   "cell_type": "markdown",
   "metadata": {},
   "source": [
    "#### Processing the files to create the data file csv that will be used for Apache Casssandra tables"
   ]
  },
  {
   "cell_type": "code",
   "execution_count": 3,
   "metadata": {},
   "outputs": [
    {
     "name": "stdout",
     "output_type": "stream",
     "text": [
      "total rows: 8056\n"
     ]
    }
   ],
   "source": [
    "# initiating an empty list of rows that will be generated from each file\n",
    "full_data_rows_list = [] \n",
    "    \n",
    "# for every filepath in the file path list \n",
    "for f in file_path_list:\n",
    "\n",
    "# reading csv file \n",
    "    with open(f, 'r', encoding = 'utf8', newline='') as csvfile: \n",
    "        # creating a csv reader object \n",
    "        csvreader = csv.reader(csvfile) \n",
    "        next(csvreader)\n",
    "        \n",
    " # extracting each data row one by one and append it        \n",
    "        for line in csvreader:\n",
    "            #print(line)\n",
    "            full_data_rows_list.append(line) \n",
    "            \n",
    "\n",
    "print(\"total rows:\", len(full_data_rows_list))\n",
    "\n",
    "# Creating a smaller event data csv file called event_datafile_full csv that will be used to insert data into the \\\n",
    "# Apache Cassandra tables\n",
    "csv.register_dialect('myDialect', quoting=csv.QUOTE_ALL, skipinitialspace=True)\n",
    "\n",
    "with open('event_datafile_new.csv', 'w', encoding = 'utf8', newline='') as f:\n",
    "    writer = csv.writer(f, dialect='myDialect')\n",
    "    writer.writerow(['artist','firstName','gender','itemInSession','lastName','length',\\\n",
    "                'level','location','sessionId','song','userId'])\n",
    "    for row in full_data_rows_list:\n",
    "        if (row[0] == ''):\n",
    "            continue\n",
    "        writer.writerow((row[0], row[2], row[3], row[4], row[5], row[6], row[7], row[8], row[12], row[13], row[16]))\n"
   ]
  },
  {
   "cell_type": "code",
   "execution_count": 4,
   "metadata": {},
   "outputs": [
    {
     "name": "stdout",
     "output_type": "stream",
     "text": [
      "6821\n"
     ]
    }
   ],
   "source": [
    "# Number of rows in csv file\n",
    "with open('event_datafile_new.csv', 'r', encoding = 'utf8') as f:\n",
    "    print(sum(1 for line in f))"
   ]
  },
  {
   "cell_type": "markdown",
   "metadata": {},
   "source": [
    "# Part II. Complete the Apache Cassandra coding portion of your project. \n",
    "\n",
    "## Now you are ready to work with the CSV file titled <font color=red>event_datafile_new.csv</font>, located within the Workspace directory.  The event_datafile_new.csv contains the following columns: \n",
    "- artist \n",
    "- firstName of user\n",
    "- gender of user\n",
    "- item number in session\n",
    "- last name of user\n",
    "- length of the song\n",
    "- level (paid or free song)\n",
    "- location of the user\n",
    "- sessionId\n",
    "- song title\n",
    "- userId\n",
    "\n",
    "The image below is a screenshot of what the denormalized data should appear like in the <font color=red>**event_datafile_new.csv**</font> after the code above is run:<br>\n",
    "\n",
    "<img src=\"images/image_event_datafile_new.jpg\">"
   ]
  },
  {
   "cell_type": "markdown",
   "metadata": {},
   "source": [
    "## Begin writing your Apache Cassandra code in the cells below"
   ]
  },
  {
   "cell_type": "markdown",
   "metadata": {},
   "source": [
    "#### Creating a Cluster"
   ]
  },
  {
   "cell_type": "code",
   "execution_count": 5,
   "metadata": {},
   "outputs": [],
   "source": [
    "# Make connection to Cassandra instance\n",
    "# (127.0.0.1)\n",
    "\n",
    "from cassandra.cluster import Cluster\n",
    "cluster = Cluster()\n",
    "\n",
    "# Create session\n",
    "session = cluster.connect()"
   ]
  },
  {
   "cell_type": "markdown",
   "metadata": {},
   "source": [
    "#### Create Keyspace"
   ]
  },
  {
   "cell_type": "code",
   "execution_count": 6,
   "metadata": {},
   "outputs": [],
   "source": [
    "# Create Keyspace udacity\n",
    "try:\n",
    "    session.execute(\"\"\"\n",
    "    CREATE KEYSPACE IF NOT EXISTS udacity \n",
    "    WITH REPLICATION = \n",
    "    { 'class' : 'SimpleStrategy', 'replication_factor' : 1 }\"\"\"\n",
    ")\n",
    "\n",
    "except Exception as e:\n",
    "    print(e)"
   ]
  },
  {
   "cell_type": "markdown",
   "metadata": {},
   "source": [
    "#### Set Keyspace"
   ]
  },
  {
   "cell_type": "code",
   "execution_count": 7,
   "metadata": {},
   "outputs": [],
   "source": [
    "# Set KEYSPACE to udacity\n",
    "try:\n",
    "    session.set_keyspace('udacity')\n",
    "except Exception as e:\n",
    "    print(e)"
   ]
  },
  {
   "cell_type": "markdown",
   "metadata": {},
   "source": [
    "### Now we need to create tables to run the following queries. Remember, with Apache Cassandra you model the database tables on the queries you want to run."
   ]
  },
  {
   "cell_type": "markdown",
   "metadata": {},
   "source": [
    "## Create queries to ask the following three questions of the data\n",
    "\n",
    "### 1. Give me the artist, song title and song's length in the music app history that was heard during  sessionId = 338, and itemInSession  = 4\n",
    "\n",
    "\n",
    "### 2. Give me only the following: name of artist, song (sorted by itemInSession) and user (first and last name) for userid = 10, sessionid = 182\n",
    "    \n",
    "\n",
    "### 3. Give me every user name (first and last) in my music app history who listened to the song 'All Hands Against His Own'\n",
    "\n",
    "\n"
   ]
  },
  {
   "cell_type": "markdown",
   "metadata": {},
   "source": [
    "### Query 1\n",
    "\n",
    "For this first query since we are interested in a specific session and in which place the particular song was listened to it makes sense to include both session_id and item_in_session as primary key. We will call this table the song_library because it comprises songs metadata."
   ]
  },
  {
   "cell_type": "code",
   "execution_count": 8,
   "metadata": {},
   "outputs": [],
   "source": [
    "# Query\n",
    "query_songs = \"SELECT artist_name, song_title, song_length FROM songs_library WHERE session_id = 338 AND item_in_session = 4\""
   ]
  },
  {
   "cell_type": "code",
   "execution_count": 9,
   "metadata": {
    "scrolled": false
   },
   "outputs": [],
   "source": [
    "# Input file\n",
    "file = 'event_datafile_new.csv'\n",
    "\n",
    "# Open file\n",
    "with open(file, encoding = 'utf8') as f:\n",
    "    csvreader = csv.reader(f)\n",
    "    next(csvreader) # skip header\n",
    "    \n",
    "    # Create table\n",
    "    query = \"CREATE TABLE IF NOT EXISTS songs_library \"\n",
    "    query = query + \"\"\"(\n",
    "        artist_name text, \n",
    "        song_title text, \n",
    "        song_length decimal, \n",
    "        session_id int, \n",
    "        item_in_session int, \n",
    "        PRIMARY KEY (session_id, item_in_session)\n",
    "    )\"\"\"\n",
    "    \n",
    "    try:\n",
    "        session.execute(query)\n",
    "    except Exception as e:\n",
    "        print(e)\n",
    "        \n",
    "    # Upload data Line by Line\n",
    "    for line in csvreader:\n",
    "        \n",
    "        query = \"\"\"INSERT INTO songs_library (\n",
    "            artist_name, \n",
    "            song_title, \n",
    "            song_length, \n",
    "            session_id, \n",
    "            item_in_session\n",
    "        )\"\"\"\n",
    "        query = query + \" VALUES (%s, %s, %s, %s, %s)\"\n",
    "        try:\n",
    "            # Some attributes need to be casted to proper types\n",
    "            session.execute(query, (line[0], line[9], float(line[5]), int(line[8]), int(line[3])))    \n",
    "        except Exception as e:\n",
    "            print(e)"
   ]
  },
  {
   "cell_type": "markdown",
   "metadata": {},
   "source": [
    "Once the table has been created and the data inserted we can query the database"
   ]
  },
  {
   "cell_type": "code",
   "execution_count": 10,
   "metadata": {
    "scrolled": true
   },
   "outputs": [
    {
     "name": "stdout",
     "output_type": "stream",
     "text": [
      "Faithless--Music Matters (Mark Knight Dub)--495.3073\n"
     ]
    }
   ],
   "source": [
    "try:\n",
    "    rows = session.execute(query_songs)\n",
    "except Exception as e:\n",
    "    print(e)\n",
    "    \n",
    "for row in rows:\n",
    "    print(row.artist_name, row.song_title, row.song_length, sep=\"--\")"
   ]
  },
  {
   "cell_type": "markdown",
   "metadata": {},
   "source": [
    "### Query 2\n",
    "\n",
    "For the second query what we want to know which songs did a particular user listented to during a session which means we need the user_id and session_id as members of our primary key. But we also want it sorted by item_in_session so we must include this clustering column too. We will call this table user_playlist because it summarizes a particular user listening habits."
   ]
  },
  {
   "cell_type": "code",
   "execution_count": 11,
   "metadata": {},
   "outputs": [
    {
     "name": "stdout",
     "output_type": "stream",
     "text": [
      "Down To The Bone--Keep On Keepin' On--Sylvie--Cruz\n",
      "Three Drives--Greece 2000--Sylvie--Cruz\n",
      "Sebastien Tellier--Kilometer--Sylvie--Cruz\n",
      "Lonnie Gordon--Catch You Baby (Steve Pitron & Max Sanna Radio Edit)--Sylvie--Cruz\n"
     ]
    }
   ],
   "source": [
    "query_playlist = \"SELECT artist_name, song_title, first_name, last_name FROM user_playlist WHERE user_id = 10 AND session_id = 182\"\n",
    "\n",
    "# Open file\n",
    "with open(file, encoding = 'utf8') as f:\n",
    "    csvreader = csv.reader(f)\n",
    "    next(csvreader) # skip header\n",
    "    \n",
    "    # Create table\n",
    "    query = \"CREATE TABLE IF NOT EXISTS user_playlist \"\n",
    "    query = query + \"\"\"(\n",
    "        artist_name text, \n",
    "        song_title text, \n",
    "        first_name text, \n",
    "        last_name text, \n",
    "        user_id int,\n",
    "        session_id int, \n",
    "        item_in_session int, \n",
    "        PRIMARY KEY (user_id, session_id, item_in_session)\n",
    "    )\"\"\"\n",
    "    try:\n",
    "        session.execute(query)\n",
    "    except Exception as e:\n",
    "        print(e)\n",
    "    \n",
    "    # Upload data Line by Line\n",
    "    for line in csvreader:\n",
    "        \n",
    "        query = \"\"\"INSERT INTO user_playlist (\n",
    "            artist_name, \n",
    "            song_title, \n",
    "            first_name, \n",
    "            last_name, \n",
    "            user_id, \n",
    "            session_id, \n",
    "            item_in_session\n",
    "        )\"\"\"\n",
    "        query = query + \" VALUES (%s, %s, %s, %s, %s, %s, %s)\"\n",
    "        try:\n",
    "            # Some attributes need to be casted to proper types\n",
    "            session.execute(query, (line[0], line[9], line[1], line[4], int(line[10]), int(line[8]), int(line[3])))    \n",
    "        except Exception as e:\n",
    "            print(e)\n",
    "        \n",
    "# Get result from query to test table\n",
    "try:\n",
    "    rows = session.execute(query_playlist)\n",
    "except Exception as e:\n",
    "    print(e)\n",
    "    \n",
    "for row in rows:\n",
    "    print(row.artist_name, row.song_title, row.first_name, row.last_name, sep=\"--\")"
   ]
  },
  {
   "cell_type": "markdown",
   "metadata": {},
   "source": [
    "### Query 3\n",
    "\n",
    "For the final query we are interested in users that have listened to particular songs. We will call this table song_fans because we want the distinct users for a song. In this case it is obvious we must include song as part of our primary key, however it we make it our solely component users names will be overwritten with each insert, for this reason we have to include the user_id in our primary key. "
   ]
  },
  {
   "cell_type": "code",
   "execution_count": 12,
   "metadata": {},
   "outputs": [
    {
     "name": "stdout",
     "output_type": "stream",
     "text": [
      "Jacqueline--Lynch\n",
      "Tegan--Levine\n",
      "Sara--Johnson\n"
     ]
    }
   ],
   "source": [
    "query_fans = \"SELECT first_name, last_name FROM song_fans WHERE song_title = 'All Hands Against His Own'\"\n",
    "\n",
    "# Open file\n",
    "with open(file, encoding = 'utf8') as f:\n",
    "    csvreader = csv.reader(f)\n",
    "    next(csvreader) # skip header\n",
    "    \n",
    "    # Create table\n",
    "    query = \"CREATE TABLE IF NOT EXISTS song_fans \"\n",
    "    query = query + \"\"\"(\n",
    "        first_name text, \n",
    "        last_name text, \n",
    "        song_title text,\n",
    "        user_id int, \n",
    "        PRIMARY KEY (song_title, user_id)\n",
    "    )\"\"\"\n",
    "    try:\n",
    "        session.execute(query)\n",
    "    except Exception as e:\n",
    "        print(e)\n",
    "\n",
    "    # Upload data Line by Line\n",
    "    for line in csvreader:\n",
    "        \n",
    "        query = \"\"\"INSERT INTO song_fans ( \n",
    "            first_name, \n",
    "            last_name, \n",
    "            song_title,\n",
    "            user_id\n",
    "        )\"\"\"\n",
    "        query = query + \" VALUES (%s, %s, %s, %s)\"\n",
    "        try:\n",
    "            # Some attributes need to be casted to proper types\n",
    "            session.execute(query, (line[1], line[4], line[9], int(line[10])))    \n",
    "        except Exception as e:\n",
    "            print(e)\n",
    "        \n",
    "# Get result from query to test table\n",
    "try:\n",
    "    rows = session.execute(query_fans)\n",
    "except Exception as e:\n",
    "    print(e)\n",
    "    \n",
    "for row in rows:\n",
    "    print(row.first_name, row.last_name, sep=\"--\")\n",
    "                    "
   ]
  },
  {
   "cell_type": "markdown",
   "metadata": {},
   "source": [
    "### Drop the tables before closing out the sessions"
   ]
  },
  {
   "cell_type": "code",
   "execution_count": 14,
   "metadata": {},
   "outputs": [],
   "source": [
    "# Drop tables\n",
    "query = \"DROP TABLE IF EXISTS songs_library\"\n",
    "try:\n",
    "    rows = session.execute(query)\n",
    "except Exception as e:\n",
    "    print(e)\n",
    "query = \"DROP TABLE IF EXISTS user_playlist\"\n",
    "try:\n",
    "    rows = session.execute(query)\n",
    "except Exception as e:\n",
    "    print(e)\n",
    "query = \"DROP TABLE IF EXISTS song_fans\"\n",
    "try:\n",
    "    rows = session.execute(query)\n",
    "except Exception as e:\n",
    "    print(e)"
   ]
  },
  {
   "cell_type": "markdown",
   "metadata": {},
   "source": [
    "### Close the session and cluster connection¶"
   ]
  },
  {
   "cell_type": "code",
   "execution_count": 15,
   "metadata": {},
   "outputs": [],
   "source": [
    "session.shutdown()\n",
    "cluster.shutdown()"
   ]
  },
  {
   "cell_type": "code",
   "execution_count": null,
   "metadata": {},
   "outputs": [],
   "source": []
  }
 ],
 "metadata": {
  "kernelspec": {
   "display_name": "Python 3",
   "language": "python",
   "name": "python3"
  },
  "language_info": {
   "codemirror_mode": {
    "name": "ipython",
    "version": 3
   },
   "file_extension": ".py",
   "mimetype": "text/x-python",
   "name": "python",
   "nbconvert_exporter": "python",
   "pygments_lexer": "ipython3",
   "version": "3.6.3"
  }
 },
 "nbformat": 4,
 "nbformat_minor": 2
}
